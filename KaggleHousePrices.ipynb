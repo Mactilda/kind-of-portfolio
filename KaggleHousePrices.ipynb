{
 "cells": [
  {
   "cell_type": "markdown",
   "metadata": {},
   "source": [
    "# House price prediction using advanced regression techniques\n",
    "### Kaggle-competition "
   ]
  },
  {
   "cell_type": "markdown",
   "metadata": {},
   "source": [
    "Importing libraries. "
   ]
  },
  {
   "cell_type": "code",
   "execution_count": 1,
   "metadata": {},
   "outputs": [],
   "source": [
    "import pandas as pd\n",
    "import numpy as np\n",
    "%matplotlib inline\n",
    "import matplotlib.pyplot as plt\n",
    "import seaborn as sns\n",
    "from scipy import stats\n",
    "from sklearn.model_selection import train_test_split\n",
    "from sklearn.linear_model import LinearRegression\n",
    "from sklearn.linear_model import Ridge\n",
    "from sklearn.metrics import mean_squared_error as MSE\n",
    "from sklearn.linear_model import Ridge \n",
    "from sklearn.preprocessing import StandardScaler\n",
    "from sklearn.pipeline import Pipeline\n",
    "import warnings;\n",
    "warnings.filterwarnings('ignore');"
   ]
  },
  {
   "cell_type": "markdown",
   "metadata": {},
   "source": [
    "#### Data cleaning  \n",
    "\n",
    "I start by loading and looking at the train data\n",
    "\n"
   ]
  },
  {
   "cell_type": "code",
   "execution_count": 2,
   "metadata": {},
   "outputs": [
    {
     "data": {
      "text/html": [
       "<div>\n",
       "<style scoped>\n",
       "    .dataframe tbody tr th:only-of-type {\n",
       "        vertical-align: middle;\n",
       "    }\n",
       "\n",
       "    .dataframe tbody tr th {\n",
       "        vertical-align: top;\n",
       "    }\n",
       "\n",
       "    .dataframe thead th {\n",
       "        text-align: right;\n",
       "    }\n",
       "</style>\n",
       "<table border=\"1\" class=\"dataframe\">\n",
       "  <thead>\n",
       "    <tr style=\"text-align: right;\">\n",
       "      <th></th>\n",
       "      <th>Id</th>\n",
       "      <th>MSSubClass</th>\n",
       "      <th>MSZoning</th>\n",
       "      <th>LotFrontage</th>\n",
       "      <th>LotArea</th>\n",
       "      <th>Street</th>\n",
       "      <th>Alley</th>\n",
       "      <th>LotShape</th>\n",
       "      <th>LandContour</th>\n",
       "      <th>Utilities</th>\n",
       "      <th>...</th>\n",
       "      <th>PoolArea</th>\n",
       "      <th>PoolQC</th>\n",
       "      <th>Fence</th>\n",
       "      <th>MiscFeature</th>\n",
       "      <th>MiscVal</th>\n",
       "      <th>MoSold</th>\n",
       "      <th>YrSold</th>\n",
       "      <th>SaleType</th>\n",
       "      <th>SaleCondition</th>\n",
       "      <th>SalePrice</th>\n",
       "    </tr>\n",
       "  </thead>\n",
       "  <tbody>\n",
       "    <tr>\n",
       "      <th>0</th>\n",
       "      <td>1</td>\n",
       "      <td>60</td>\n",
       "      <td>RL</td>\n",
       "      <td>65.0</td>\n",
       "      <td>8450</td>\n",
       "      <td>Pave</td>\n",
       "      <td>NaN</td>\n",
       "      <td>Reg</td>\n",
       "      <td>Lvl</td>\n",
       "      <td>AllPub</td>\n",
       "      <td>...</td>\n",
       "      <td>0</td>\n",
       "      <td>NaN</td>\n",
       "      <td>NaN</td>\n",
       "      <td>NaN</td>\n",
       "      <td>0</td>\n",
       "      <td>2</td>\n",
       "      <td>2008</td>\n",
       "      <td>WD</td>\n",
       "      <td>Normal</td>\n",
       "      <td>208500</td>\n",
       "    </tr>\n",
       "    <tr>\n",
       "      <th>1</th>\n",
       "      <td>2</td>\n",
       "      <td>20</td>\n",
       "      <td>RL</td>\n",
       "      <td>80.0</td>\n",
       "      <td>9600</td>\n",
       "      <td>Pave</td>\n",
       "      <td>NaN</td>\n",
       "      <td>Reg</td>\n",
       "      <td>Lvl</td>\n",
       "      <td>AllPub</td>\n",
       "      <td>...</td>\n",
       "      <td>0</td>\n",
       "      <td>NaN</td>\n",
       "      <td>NaN</td>\n",
       "      <td>NaN</td>\n",
       "      <td>0</td>\n",
       "      <td>5</td>\n",
       "      <td>2007</td>\n",
       "      <td>WD</td>\n",
       "      <td>Normal</td>\n",
       "      <td>181500</td>\n",
       "    </tr>\n",
       "    <tr>\n",
       "      <th>2</th>\n",
       "      <td>3</td>\n",
       "      <td>60</td>\n",
       "      <td>RL</td>\n",
       "      <td>68.0</td>\n",
       "      <td>11250</td>\n",
       "      <td>Pave</td>\n",
       "      <td>NaN</td>\n",
       "      <td>IR1</td>\n",
       "      <td>Lvl</td>\n",
       "      <td>AllPub</td>\n",
       "      <td>...</td>\n",
       "      <td>0</td>\n",
       "      <td>NaN</td>\n",
       "      <td>NaN</td>\n",
       "      <td>NaN</td>\n",
       "      <td>0</td>\n",
       "      <td>9</td>\n",
       "      <td>2008</td>\n",
       "      <td>WD</td>\n",
       "      <td>Normal</td>\n",
       "      <td>223500</td>\n",
       "    </tr>\n",
       "    <tr>\n",
       "      <th>3</th>\n",
       "      <td>4</td>\n",
       "      <td>70</td>\n",
       "      <td>RL</td>\n",
       "      <td>60.0</td>\n",
       "      <td>9550</td>\n",
       "      <td>Pave</td>\n",
       "      <td>NaN</td>\n",
       "      <td>IR1</td>\n",
       "      <td>Lvl</td>\n",
       "      <td>AllPub</td>\n",
       "      <td>...</td>\n",
       "      <td>0</td>\n",
       "      <td>NaN</td>\n",
       "      <td>NaN</td>\n",
       "      <td>NaN</td>\n",
       "      <td>0</td>\n",
       "      <td>2</td>\n",
       "      <td>2006</td>\n",
       "      <td>WD</td>\n",
       "      <td>Abnorml</td>\n",
       "      <td>140000</td>\n",
       "    </tr>\n",
       "    <tr>\n",
       "      <th>4</th>\n",
       "      <td>5</td>\n",
       "      <td>60</td>\n",
       "      <td>RL</td>\n",
       "      <td>84.0</td>\n",
       "      <td>14260</td>\n",
       "      <td>Pave</td>\n",
       "      <td>NaN</td>\n",
       "      <td>IR1</td>\n",
       "      <td>Lvl</td>\n",
       "      <td>AllPub</td>\n",
       "      <td>...</td>\n",
       "      <td>0</td>\n",
       "      <td>NaN</td>\n",
       "      <td>NaN</td>\n",
       "      <td>NaN</td>\n",
       "      <td>0</td>\n",
       "      <td>12</td>\n",
       "      <td>2008</td>\n",
       "      <td>WD</td>\n",
       "      <td>Normal</td>\n",
       "      <td>250000</td>\n",
       "    </tr>\n",
       "  </tbody>\n",
       "</table>\n",
       "<p>5 rows × 81 columns</p>\n",
       "</div>"
      ],
      "text/plain": [
       "   Id  MSSubClass MSZoning  LotFrontage  LotArea Street Alley LotShape  \\\n",
       "0   1          60       RL         65.0     8450   Pave   NaN      Reg   \n",
       "1   2          20       RL         80.0     9600   Pave   NaN      Reg   \n",
       "2   3          60       RL         68.0    11250   Pave   NaN      IR1   \n",
       "3   4          70       RL         60.0     9550   Pave   NaN      IR1   \n",
       "4   5          60       RL         84.0    14260   Pave   NaN      IR1   \n",
       "\n",
       "  LandContour Utilities  ... PoolArea PoolQC Fence MiscFeature MiscVal MoSold  \\\n",
       "0         Lvl    AllPub  ...        0    NaN   NaN         NaN       0      2   \n",
       "1         Lvl    AllPub  ...        0    NaN   NaN         NaN       0      5   \n",
       "2         Lvl    AllPub  ...        0    NaN   NaN         NaN       0      9   \n",
       "3         Lvl    AllPub  ...        0    NaN   NaN         NaN       0      2   \n",
       "4         Lvl    AllPub  ...        0    NaN   NaN         NaN       0     12   \n",
       "\n",
       "  YrSold  SaleType  SaleCondition  SalePrice  \n",
       "0   2008        WD         Normal     208500  \n",
       "1   2007        WD         Normal     181500  \n",
       "2   2008        WD         Normal     223500  \n",
       "3   2006        WD        Abnorml     140000  \n",
       "4   2008        WD         Normal     250000  \n",
       "\n",
       "[5 rows x 81 columns]"
      ]
     },
     "execution_count": 2,
     "metadata": {},
     "output_type": "execute_result"
    }
   ],
   "source": [
    "hp=pd.read_csv('train.csv')\n",
    "hp.head()"
   ]
  },
  {
   "cell_type": "code",
   "execution_count": 3,
   "metadata": {},
   "outputs": [
    {
     "name": "stdout",
     "output_type": "stream",
     "text": [
      "<class 'pandas.core.frame.DataFrame'>\n",
      "RangeIndex: 1460 entries, 0 to 1459\n",
      "Data columns (total 81 columns):\n",
      "Id               1460 non-null int64\n",
      "MSSubClass       1460 non-null int64\n",
      "MSZoning         1460 non-null object\n",
      "LotFrontage      1201 non-null float64\n",
      "LotArea          1460 non-null int64\n",
      "Street           1460 non-null object\n",
      "Alley            91 non-null object\n",
      "LotShape         1460 non-null object\n",
      "LandContour      1460 non-null object\n",
      "Utilities        1460 non-null object\n",
      "LotConfig        1460 non-null object\n",
      "LandSlope        1460 non-null object\n",
      "Neighborhood     1460 non-null object\n",
      "Condition1       1460 non-null object\n",
      "Condition2       1460 non-null object\n",
      "BldgType         1460 non-null object\n",
      "HouseStyle       1460 non-null object\n",
      "OverallQual      1460 non-null int64\n",
      "OverallCond      1460 non-null int64\n",
      "YearBuilt        1460 non-null int64\n",
      "YearRemodAdd     1460 non-null int64\n",
      "RoofStyle        1460 non-null object\n",
      "RoofMatl         1460 non-null object\n",
      "Exterior1st      1460 non-null object\n",
      "Exterior2nd      1460 non-null object\n",
      "MasVnrType       1452 non-null object\n",
      "MasVnrArea       1452 non-null float64\n",
      "ExterQual        1460 non-null object\n",
      "ExterCond        1460 non-null object\n",
      "Foundation       1460 non-null object\n",
      "BsmtQual         1423 non-null object\n",
      "BsmtCond         1423 non-null object\n",
      "BsmtExposure     1422 non-null object\n",
      "BsmtFinType1     1423 non-null object\n",
      "BsmtFinSF1       1460 non-null int64\n",
      "BsmtFinType2     1422 non-null object\n",
      "BsmtFinSF2       1460 non-null int64\n",
      "BsmtUnfSF        1460 non-null int64\n",
      "TotalBsmtSF      1460 non-null int64\n",
      "Heating          1460 non-null object\n",
      "HeatingQC        1460 non-null object\n",
      "CentralAir       1460 non-null object\n",
      "Electrical       1459 non-null object\n",
      "1stFlrSF         1460 non-null int64\n",
      "2ndFlrSF         1460 non-null int64\n",
      "LowQualFinSF     1460 non-null int64\n",
      "GrLivArea        1460 non-null int64\n",
      "BsmtFullBath     1460 non-null int64\n",
      "BsmtHalfBath     1460 non-null int64\n",
      "FullBath         1460 non-null int64\n",
      "HalfBath         1460 non-null int64\n",
      "BedroomAbvGr     1460 non-null int64\n",
      "KitchenAbvGr     1460 non-null int64\n",
      "KitchenQual      1460 non-null object\n",
      "TotRmsAbvGrd     1460 non-null int64\n",
      "Functional       1460 non-null object\n",
      "Fireplaces       1460 non-null int64\n",
      "FireplaceQu      770 non-null object\n",
      "GarageType       1379 non-null object\n",
      "GarageYrBlt      1379 non-null float64\n",
      "GarageFinish     1379 non-null object\n",
      "GarageCars       1460 non-null int64\n",
      "GarageArea       1460 non-null int64\n",
      "GarageQual       1379 non-null object\n",
      "GarageCond       1379 non-null object\n",
      "PavedDrive       1460 non-null object\n",
      "WoodDeckSF       1460 non-null int64\n",
      "OpenPorchSF      1460 non-null int64\n",
      "EnclosedPorch    1460 non-null int64\n",
      "3SsnPorch        1460 non-null int64\n",
      "ScreenPorch      1460 non-null int64\n",
      "PoolArea         1460 non-null int64\n",
      "PoolQC           7 non-null object\n",
      "Fence            281 non-null object\n",
      "MiscFeature      54 non-null object\n",
      "MiscVal          1460 non-null int64\n",
      "MoSold           1460 non-null int64\n",
      "YrSold           1460 non-null int64\n",
      "SaleType         1460 non-null object\n",
      "SaleCondition    1460 non-null object\n",
      "SalePrice        1460 non-null int64\n",
      "dtypes: float64(3), int64(35), object(43)\n",
      "memory usage: 924.0+ KB\n"
     ]
    }
   ],
   "source": [
    "hp.info()"
   ]
  },
  {
   "cell_type": "markdown",
   "metadata": {},
   "source": [
    "There seems to be a few column with many missing values. I decide to plot the columns with more than 10% missing values to get a visual overview."
   ]
  },
  {
   "cell_type": "code",
   "execution_count": 4,
   "metadata": {},
   "outputs": [
    {
     "data": {
      "text/html": [
       "<div>\n",
       "<style scoped>\n",
       "    .dataframe tbody tr th:only-of-type {\n",
       "        vertical-align: middle;\n",
       "    }\n",
       "\n",
       "    .dataframe tbody tr th {\n",
       "        vertical-align: top;\n",
       "    }\n",
       "\n",
       "    .dataframe thead th {\n",
       "        text-align: right;\n",
       "    }\n",
       "</style>\n",
       "<table border=\"1\" class=\"dataframe\">\n",
       "  <thead>\n",
       "    <tr style=\"text-align: right;\">\n",
       "      <th></th>\n",
       "      <th>Column</th>\n",
       "      <th>Count</th>\n",
       "    </tr>\n",
       "  </thead>\n",
       "  <tbody>\n",
       "    <tr>\n",
       "      <th>0</th>\n",
       "      <td>PoolQC</td>\n",
       "      <td>99.520548</td>\n",
       "    </tr>\n",
       "    <tr>\n",
       "      <th>1</th>\n",
       "      <td>MiscFeature</td>\n",
       "      <td>96.301370</td>\n",
       "    </tr>\n",
       "    <tr>\n",
       "      <th>2</th>\n",
       "      <td>Alley</td>\n",
       "      <td>93.767123</td>\n",
       "    </tr>\n",
       "    <tr>\n",
       "      <th>3</th>\n",
       "      <td>Fence</td>\n",
       "      <td>80.753425</td>\n",
       "    </tr>\n",
       "    <tr>\n",
       "      <th>4</th>\n",
       "      <td>FireplaceQu</td>\n",
       "      <td>47.260274</td>\n",
       "    </tr>\n",
       "    <tr>\n",
       "      <th>5</th>\n",
       "      <td>LotFrontage</td>\n",
       "      <td>17.739726</td>\n",
       "    </tr>\n",
       "  </tbody>\n",
       "</table>\n",
       "</div>"
      ],
      "text/plain": [
       "        Column      Count\n",
       "0       PoolQC  99.520548\n",
       "1  MiscFeature  96.301370\n",
       "2        Alley  93.767123\n",
       "3        Fence  80.753425\n",
       "4  FireplaceQu  47.260274\n",
       "5  LotFrontage  17.739726"
      ]
     },
     "execution_count": 4,
     "metadata": {},
     "output_type": "execute_result"
    }
   ],
   "source": [
    "nullvalues = hp.isnull().sum()/len(hp)*100\n",
    "nullvalues = nullvalues[nullvalues>10]\n",
    "nullvalues.sort_values(inplace=True, ascending=False)\n",
    "nullvalues=nullvalues.to_frame()\n",
    "nullvalues.columns=['Count']\n",
    "nullvalues.index.names = ['Column']\n",
    "nullvalues.reset_index(level=0, inplace=True)\n",
    "nullvalues"
   ]
  },
  {
   "cell_type": "code",
   "execution_count": 5,
   "metadata": {},
   "outputs": [
    {
     "data": {
      "image/png": "[encoded data removed]",
      "text/plain": [
       "<Figure size 432x288 with 1 Axes>"
      ]
     },
     "metadata": {
      "needs_background": "light"
     },
     "output_type": "display_data"
    }
   ],
   "source": [
    "sns.barplot(x='Column', y='Count', data=nullvalues)\n",
    "plt.show()"
   ]
  },
  {
   "cell_type": "markdown",
   "metadata": {},
   "source": [
    "Reading the documentation-file I decide to loose the Misc Feature column since there are so many missing values the few features that are  \n",
    "there are to few to build a model on. \n",
    "\n",
    "I decide to take a closer look at the Pool QC column. "
   ]
  },
  {
   "cell_type": "code",
   "execution_count": 6,
   "metadata": {},
   "outputs": [
    {
     "data": {
      "text/plain": [
       "Gd    3\n",
       "Fa    2\n",
       "Ex    2\n",
       "Name: PoolQC, dtype: int64"
      ]
     },
     "execution_count": 6,
     "metadata": {},
     "output_type": "execute_result"
    }
   ],
   "source": [
    "hp['PoolQC'].value_counts()"
   ]
  },
  {
   "cell_type": "markdown",
   "metadata": {},
   "source": [
    "I debate with myself whether to keep the column or to replace the missing values with NP for \"No Pool\". The actual values \n",
    "are very few, and the different \"qualities\" of the pool are Excellent, Good, Average/Typical and Fair means that even though they are \n",
    "different on a scale there is only two entries that have \"fair\" which is \"below average\" - and we have the numerical column over pool area where the existance of a pool is documented. I decide to skip that column as well. "
   ]
  },
  {
   "cell_type": "markdown",
   "metadata": {},
   "source": [
    "I look at the fireplace columns to see if I can change the missing values in the quality column with \"No fireplace\". "
   ]
  },
  {
   "cell_type": "code",
   "execution_count": 7,
   "metadata": {},
   "outputs": [
    {
     "data": {
      "text/plain": [
       "Gd    380\n",
       "TA    313\n",
       "Fa     33\n",
       "Ex     24\n",
       "Po     20\n",
       "Name: FireplaceQu, dtype: int64"
      ]
     },
     "execution_count": 7,
     "metadata": {},
     "output_type": "execute_result"
    }
   ],
   "source": [
    "hp['FireplaceQu'].value_counts()"
   ]
  },
  {
   "cell_type": "code",
   "execution_count": 8,
   "metadata": {},
   "outputs": [
    {
     "data": {
      "text/plain": [
       "0    690\n",
       "1    650\n",
       "2    115\n",
       "3      5\n",
       "Name: Fireplaces, dtype: int64"
      ]
     },
     "execution_count": 8,
     "metadata": {},
     "output_type": "execute_result"
    }
   ],
   "source": [
    "hp['Fireplaces'].value_counts()"
   ]
  },
  {
   "cell_type": "markdown",
   "metadata": {},
   "source": [
    "Seeing that the number of fireplaces and the number of entered values in 'FireplaceQu' are the same I decide to replace all the missing values of \"Fireplace Qu\" with \"N\" for \"none\" as in \"no fireplace\". "
   ]
  },
  {
   "cell_type": "code",
   "execution_count": 9,
   "metadata": {},
   "outputs": [],
   "source": [
    "hp['FireplaceQu'].fillna('N', inplace = True) "
   ]
  },
  {
   "cell_type": "markdown",
   "metadata": {},
   "source": [
    "For both the columns \"Alley\" and \"Fence\" it is stated that the missing values means no alley acces respectivly no fence. Since the data isn't bigger and the missing value rate is as high as it is in these columns - 93 and close to 80 % - I decide to skip these columns.    \n",
    "    \n",
    "I take a closer look at the Lot Frontage column"
   ]
  },
  {
   "cell_type": "code",
   "execution_count": 10,
   "metadata": {},
   "outputs": [
    {
     "data": {
      "text/plain": [
       "1440    79.0\n",
       "1441     NaN\n",
       "1442    85.0\n",
       "1443     NaN\n",
       "1444    63.0\n",
       "1445    70.0\n",
       "1446     NaN\n",
       "1447    80.0\n",
       "1448    70.0\n",
       "1449    21.0\n",
       "1450    60.0\n",
       "1451    78.0\n",
       "1452    35.0\n",
       "1453    90.0\n",
       "1454    62.0\n",
       "1455    62.0\n",
       "1456    85.0\n",
       "1457    66.0\n",
       "1458    68.0\n",
       "1459    75.0\n",
       "Name: LotFrontage, dtype: float64"
      ]
     },
     "execution_count": 10,
     "metadata": {},
     "output_type": "execute_result"
    }
   ],
   "source": [
    "hp['LotFrontage'].tail(20)"
   ]
  },
  {
   "cell_type": "code",
   "execution_count": 11,
   "metadata": {},
   "outputs": [
    {
     "data": {
      "text/plain": [
       "[]"
      ]
     },
     "execution_count": 11,
     "metadata": {},
     "output_type": "execute_result"
    }
   ],
   "source": [
    "hp[hp['LotFrontage']==0.0].index.tolist()"
   ]
  },
  {
   "cell_type": "markdown",
   "metadata": {},
   "source": [
    "I decide to keep this column but change the missing values to zero as it is most likley that that is the case since there are no entered values that are 0.0. "
   ]
  },
  {
   "cell_type": "code",
   "execution_count": 12,
   "metadata": {},
   "outputs": [
    {
     "data": {
      "text/plain": [
       "1440    79.0\n",
       "1441     0.0\n",
       "1442    85.0\n",
       "1443     0.0\n",
       "1444    63.0\n",
       "1445    70.0\n",
       "1446     0.0\n",
       "1447    80.0\n",
       "1448    70.0\n",
       "1449    21.0\n",
       "1450    60.0\n",
       "1451    78.0\n",
       "1452    35.0\n",
       "1453    90.0\n",
       "1454    62.0\n",
       "1455    62.0\n",
       "1456    85.0\n",
       "1457    66.0\n",
       "1458    68.0\n",
       "1459    75.0\n",
       "Name: LotFrontage, dtype: float64"
      ]
     },
     "execution_count": 12,
     "metadata": {},
     "output_type": "execute_result"
    }
   ],
   "source": [
    "hp['LotFrontage'].fillna(0.0 , inplace = True) \n",
    "hp['LotFrontage'].tail(20)"
   ]
  },
  {
   "cell_type": "markdown",
   "metadata": {},
   "source": [
    "Dropping the columns: Pool QC, Misc Features, Alley, and Fence."
   ]
  },
  {
   "cell_type": "code",
   "execution_count": 13,
   "metadata": {},
   "outputs": [],
   "source": [
    "hp.drop(['PoolQC','MiscFeature', 'Alley', 'Fence'],axis=1,inplace=True)"
   ]
  },
  {
   "cell_type": "markdown",
   "metadata": {},
   "source": [
    "Looking at the reminder of missing values. "
   ]
  },
  {
   "cell_type": "code",
   "execution_count": 14,
   "metadata": {},
   "outputs": [
    {
     "data": {
      "text/plain": [
       "GarageCond      5.547945\n",
       "GarageQual      5.547945\n",
       "GarageFinish    5.547945\n",
       "GarageYrBlt     5.547945\n",
       "GarageType      5.547945\n",
       "BsmtFinType2    2.602740\n",
       "BsmtExposure    2.602740\n",
       "BsmtFinType1    2.534247\n",
       "BsmtCond        2.534247\n",
       "BsmtQual        2.534247\n",
       "MasVnrArea      0.547945\n",
       "MasVnrType      0.547945\n",
       "Electrical      0.068493\n",
       "dtype: float64"
      ]
     },
     "execution_count": 14,
     "metadata": {},
     "output_type": "execute_result"
    }
   ],
   "source": [
    "nullvalues = hp.isnull().sum()/len(hp)*100\n",
    "nullvalues = nullvalues[nullvalues>0]\n",
    "nullvalues.sort_values(inplace=True, ascending=False)\n",
    "nullvalues"
   ]
  },
  {
   "cell_type": "markdown",
   "metadata": {},
   "source": [
    "Tackling this one column at the time. \n",
    "The general approach being: \n",
    "- if it is an ordinal value I use the value the documentation indicates to replace the missing value, like \"No Basement\" for example. Or with the MasVnrType there is a value called None. Otherwise I'll use the mode - most occuring value. \n",
    "- if it is a numerical value I look at the values to see if a mean, median or zero will be the smarter aproach. \n"
   ]
  },
  {
   "cell_type": "markdown",
   "metadata": {},
   "source": [
    "When it comes to the Garage columns I can see that the missing value ratio is the same in all columns showing that the missing values are actually the indication of having no Garage. I therefore insert a new variable N for \"none/no garage\" in the categorical columns and drop the \"GarageYrBlt\" column since it is more important in which condition the garage is in than the year it was built. "
   ]
  },
  {
   "cell_type": "code",
   "execution_count": 15,
   "metadata": {},
   "outputs": [],
   "source": [
    "hp.update(hp[['GarageCond','GarageFinish','GarageQual', 'GarageType']].fillna('N'))"
   ]
  },
  {
   "cell_type": "code",
   "execution_count": 16,
   "metadata": {},
   "outputs": [],
   "source": [
    "hp.drop(['GarageYrBlt'],axis=1,inplace = True)"
   ]
  },
  {
   "cell_type": "markdown",
   "metadata": {},
   "source": [
    "For Basement columns N is the same as \"none/No basement\". "
   ]
  },
  {
   "cell_type": "code",
   "execution_count": 17,
   "metadata": {},
   "outputs": [],
   "source": [
    "hp.update(hp[['BsmtCond','BsmtExposure','BsmtQual', 'BsmtFinType1', 'BsmtFinType2']].fillna('N'))"
   ]
  },
  {
   "cell_type": "code",
   "execution_count": 18,
   "metadata": {},
   "outputs": [
    {
     "data": {
      "text/plain": [
       "None       864\n",
       "BrkFace    445\n",
       "Stone      128\n",
       "BrkCmn      15\n",
       "Name: MasVnrType, dtype: int64"
      ]
     },
     "execution_count": 18,
     "metadata": {},
     "output_type": "execute_result"
    }
   ],
   "source": [
    "hp['MasVnrType'].value_counts()"
   ]
  },
  {
   "cell_type": "code",
   "execution_count": 19,
   "metadata": {},
   "outputs": [],
   "source": [
    "hp['MasVnrType']= hp['MasVnrType'].fillna(hp['MasVnrType'].mode()[0])"
   ]
  },
  {
   "cell_type": "code",
   "execution_count": 20,
   "metadata": {},
   "outputs": [
    {
     "data": {
      "text/plain": [
       "0.0"
      ]
     },
     "execution_count": 20,
     "metadata": {},
     "output_type": "execute_result"
    }
   ],
   "source": [
    "hp['MasVnrArea'].median()"
   ]
  },
  {
   "cell_type": "code",
   "execution_count": 21,
   "metadata": {},
   "outputs": [
    {
     "data": {
      "text/plain": [
       "103.68526170798899"
      ]
     },
     "execution_count": 21,
     "metadata": {},
     "output_type": "execute_result"
    }
   ],
   "source": [
    "hp['MasVnrArea'].mean()"
   ]
  },
  {
   "cell_type": "markdown",
   "metadata": {},
   "source": [
    "I decide to replace the missing value in the 'MasVnrArea' column with the median - that is zero."
   ]
  },
  {
   "cell_type": "code",
   "execution_count": 22,
   "metadata": {},
   "outputs": [],
   "source": [
    "hp['MasVnrArea'].fillna(0, inplace = True)"
   ]
  },
  {
   "cell_type": "code",
   "execution_count": 23,
   "metadata": {},
   "outputs": [
    {
     "data": {
      "text/plain": [
       "SBrkr    1334\n",
       "FuseA      94\n",
       "FuseF      27\n",
       "FuseP       3\n",
       "Mix         1\n",
       "Name: Electrical, dtype: int64"
      ]
     },
     "execution_count": 23,
     "metadata": {},
     "output_type": "execute_result"
    }
   ],
   "source": [
    "hp['Electrical'].value_counts()"
   ]
  },
  {
   "cell_type": "code",
   "execution_count": 24,
   "metadata": {},
   "outputs": [],
   "source": [
    "hp['Electrical']= hp['Electrical'].fillna(hp['Electrical'].mode()[0])"
   ]
  },
  {
   "cell_type": "markdown",
   "metadata": {},
   "source": [
    "Looking at the columns again to see that all columns have 1460 non-null values. "
   ]
  },
  {
   "cell_type": "code",
   "execution_count": 25,
   "metadata": {},
   "outputs": [
    {
     "name": "stdout",
     "output_type": "stream",
     "text": [
      "<class 'pandas.core.frame.DataFrame'>\n",
      "RangeIndex: 1460 entries, 0 to 1459\n",
      "Data columns (total 76 columns):\n",
      "Id               1460 non-null int64\n",
      "MSSubClass       1460 non-null int64\n",
      "MSZoning         1460 non-null object\n",
      "LotFrontage      1460 non-null float64\n",
      "LotArea          1460 non-null int64\n",
      "Street           1460 non-null object\n",
      "LotShape         1460 non-null object\n",
      "LandContour      1460 non-null object\n",
      "Utilities        1460 non-null object\n",
      "LotConfig        1460 non-null object\n",
      "LandSlope        1460 non-null object\n",
      "Neighborhood     1460 non-null object\n",
      "Condition1       1460 non-null object\n",
      "Condition2       1460 non-null object\n",
      "BldgType         1460 non-null object\n",
      "HouseStyle       1460 non-null object\n",
      "OverallQual      1460 non-null int64\n",
      "OverallCond      1460 non-null int64\n",
      "YearBuilt        1460 non-null int64\n",
      "YearRemodAdd     1460 non-null int64\n",
      "RoofStyle        1460 non-null object\n",
      "RoofMatl         1460 non-null object\n",
      "Exterior1st      1460 non-null object\n",
      "Exterior2nd      1460 non-null object\n",
      "MasVnrType       1460 non-null object\n",
      "MasVnrArea       1460 non-null float64\n",
      "ExterQual        1460 non-null object\n",
      "ExterCond        1460 non-null object\n",
      "Foundation       1460 non-null object\n",
      "BsmtQual         1460 non-null object\n",
      "BsmtCond         1460 non-null object\n",
      "BsmtExposure     1460 non-null object\n",
      "BsmtFinType1     1460 non-null object\n",
      "BsmtFinSF1       1460 non-null int64\n",
      "BsmtFinType2     1460 non-null object\n",
      "BsmtFinSF2       1460 non-null int64\n",
      "BsmtUnfSF        1460 non-null int64\n",
      "TotalBsmtSF      1460 non-null int64\n",
      "Heating          1460 non-null object\n",
      "HeatingQC        1460 non-null object\n",
      "CentralAir       1460 non-null object\n",
      "Electrical       1460 non-null object\n",
      "1stFlrSF         1460 non-null int64\n",
      "2ndFlrSF         1460 non-null int64\n",
      "LowQualFinSF     1460 non-null int64\n",
      "GrLivArea        1460 non-null int64\n",
      "BsmtFullBath     1460 non-null int64\n",
      "BsmtHalfBath     1460 non-null int64\n",
      "FullBath         1460 non-null int64\n",
      "HalfBath         1460 non-null int64\n",
      "BedroomAbvGr     1460 non-null int64\n",
      "KitchenAbvGr     1460 non-null int64\n",
      "KitchenQual      1460 non-null object\n",
      "TotRmsAbvGrd     1460 non-null int64\n",
      "Functional       1460 non-null object\n",
      "Fireplaces       1460 non-null int64\n",
      "FireplaceQu      1460 non-null object\n",
      "GarageType       1460 non-null object\n",
      "GarageFinish     1460 non-null object\n",
      "GarageCars       1460 non-null int64\n",
      "GarageArea       1460 non-null int64\n",
      "GarageQual       1460 non-null object\n",
      "GarageCond       1460 non-null object\n",
      "PavedDrive       1460 non-null object\n",
      "WoodDeckSF       1460 non-null int64\n",
      "OpenPorchSF      1460 non-null int64\n",
      "EnclosedPorch    1460 non-null int64\n",
      "3SsnPorch        1460 non-null int64\n",
      "ScreenPorch      1460 non-null int64\n",
      "PoolArea         1460 non-null int64\n",
      "MiscVal          1460 non-null int64\n",
      "MoSold           1460 non-null int64\n",
      "YrSold           1460 non-null int64\n",
      "SaleType         1460 non-null object\n",
      "SaleCondition    1460 non-null object\n",
      "SalePrice        1460 non-null int64\n",
      "dtypes: float64(2), int64(35), object(39)\n",
      "memory usage: 867.0+ KB\n"
     ]
    }
   ],
   "source": [
    "hp.info()"
   ]
  },
  {
   "cell_type": "markdown",
   "metadata": {},
   "source": [
    "I do notice that I still have the ID column left. I will not need it when I do my prediction scince it is an unique identifier. Therefore I remove it. "
   ]
  },
  {
   "cell_type": "code",
   "execution_count": 26,
   "metadata": {},
   "outputs": [],
   "source": [
    "hp.drop(['Id'],axis=1,inplace=True)"
   ]
  },
  {
   "cell_type": "markdown",
   "metadata": {},
   "source": [
    "The shape is now: "
   ]
  },
  {
   "cell_type": "code",
   "execution_count": 27,
   "metadata": {},
   "outputs": [
    {
     "data": {
      "text/plain": [
       "(1460, 75)"
      ]
     },
     "execution_count": 27,
     "metadata": {},
     "output_type": "execute_result"
    }
   ],
   "source": [
    "hp.shape"
   ]
  },
  {
   "cell_type": "markdown",
   "metadata": {},
   "source": [
    "**Categorical values**  \n",
    "\n",
    "I decide to tackle the categorical columns and start with looking at the ordinal variables and decide to change them to numerical scale.   \n",
    "  \n",
    "**Lot shape** has the following categories; *regular, slightly irregular, moderately irregular*, and *irregular*. The numerical scale will be 0-3 where 0 represents *regular*, since the abbriviations of the above mentioned categories are; *Reg, IR1, IR2,* and *IR3*.   "
   ]
  },
  {
   "cell_type": "code",
   "execution_count": 28,
   "metadata": {},
   "outputs": [],
   "source": [
    "hp['LotShape'] = hp['LotShape'].map({'Reg': 0, 'IR1': 1, 'IR2': 2, 'IR3': 3})"
   ]
  },
  {
   "cell_type": "markdown",
   "metadata": {},
   "source": [
    "**Utilities** has the following categories and abbriviations; *AllPub - All public Utilities (E,G,W,& S), NoSewr - Electricity, Gas, and Water (Septic Tank), NoSeWa - Electricity and Gas Only*, and *ELO - Electricity only*. I set the numerical scale to 4-1, where the number represents the number of utilities (and zero would have been no electricity either). "
   ]
  },
  {
   "cell_type": "code",
   "execution_count": 29,
   "metadata": {},
   "outputs": [],
   "source": [
    "hp['Utilities'] = hp['Utilities'].map({'AllPub': 4, 'NoSewr': 3, 'NoSeWa': 2, 'ELO': 1})"
   ]
  },
  {
   "cell_type": "markdown",
   "metadata": {},
   "source": [
    "**Land Slope** has the following categories and abbriviations; *Gtl - Gentle slope, Mod - Moderate Slope*, and *Sev - Severe Slope*. I set the numerical scale to 1-3 where 1 is 'Gentle slope' (and 0 would have been 'no slope')."
   ]
  },
  {
   "cell_type": "code",
   "execution_count": 30,
   "metadata": {},
   "outputs": [],
   "source": [
    "hp['LandSlope'] = hp['LandSlope'].map({'Gtl': 1, 'Mod': 2, 'Sev': 3})"
   ]
  },
  {
   "cell_type": "markdown",
   "metadata": {},
   "source": [
    "**Exter Cond, Exter Qual, KitchenQual**, and **HeatingQC** have a scale from *Excellent* to *Poor* in five stages, therefor I set the numerical scale to 5-1 (where 5 is excellent and 1 is poor)."
   ]
  },
  {
   "cell_type": "code",
   "execution_count": 31,
   "metadata": {},
   "outputs": [],
   "source": [
    "n ={'Ex': 5, 'Gd': 4, 'TA': 3, 'Fa': 2, 'Po': 1} \n",
    "hp[['ExterCond','ExterQual','HeatingQC', 'KitchenQual']] = hp[\n",
    "    ['ExterCond','ExterQual','HeatingQC', 'KitchenQual']].applymap(n.get)"
   ]
  },
  {
   "cell_type": "markdown",
   "metadata": {},
   "source": [
    "**BsmtQual** and **BsmtCond** have the same scales as \"Exter\" dito but with the addition of *NB* that I made earlier when dealing with missing values. *N* meaning no basement will therefore be 0, the others will be handled as above. \n",
    "The same goes for **FireplaceQu** but with *N* for 'No Fireplace', **GarageQual** and **GarageCond** with *N* for 'No Garage'."
   ]
  },
  {
   "cell_type": "code",
   "execution_count": 32,
   "metadata": {},
   "outputs": [],
   "source": [
    "b = {'Ex': 5, 'Gd': 4, 'TA': 3, 'Fa': 2, 'Po': 1, 'N': 0}\n",
    "hp[['BsmtQual', 'BsmtCond', 'FireplaceQu', 'GarageQual', 'GarageCond']] = hp[\n",
    "    ['BsmtQual', 'BsmtCond', 'FireplaceQu', 'GarageQual', 'GarageCond']].applymap(b.get)"
   ]
  },
  {
   "cell_type": "markdown",
   "metadata": {},
   "source": [
    "**BsmtExposure** categories and abbriviations: *Gd - Good Exposure, Av - Average Exposure (split levels or foyers typically score average or above), Mn - Mimimum Exposure, No - No Exposure*, and *N - No Basement*. Numerical scale: 3-0 where *Gd* is three and *No* AND *NB* both will be 0 since niehter has any basement exposure."
   ]
  },
  {
   "cell_type": "code",
   "execution_count": 33,
   "metadata": {},
   "outputs": [],
   "source": [
    "hp['BsmtExposure'] = hp['BsmtExposure'].map({'Gd': 3, 'Av': 2, 'Mn': 1, 'No': 0, 'N':0})"
   ]
  },
  {
   "cell_type": "markdown",
   "metadata": {},
   "source": [
    "**BsmtFinType 1** and **BsmtFinType 2** categories and abbriviations: *GLQ - Good Living Quarters, ALQ - Average Living Quarters, BLQ - Below Average Living Quarters, Rec - Average Rec Room, LwQ - Low Quality, Unf - Unfinshed*, and *N - No Basement*. Numerical scale: 6-0 where *GLQ* is 6 and *N* is 0."
   ]
  },
  {
   "cell_type": "code",
   "execution_count": 34,
   "metadata": {},
   "outputs": [],
   "source": [
    "bt = {'GLQ': 6, 'ALQ': 5, 'BLQ': 4, 'Rec': 3, 'LwQ': 2, 'Unf': 1, 'N': 0}\n",
    "hp[['BsmtFinType1', 'BsmtFinType2']] = hp[['BsmtFinType1', 'BsmtFinType2']].applymap(bt.get)"
   ]
  },
  {
   "cell_type": "markdown",
   "metadata": {},
   "source": [
    "**Functional** has eight categories ranging from *Typical Functionality* to *Salvage only*,I set the numerical to 0-7 where *Total Functionality* is 0."
   ]
  },
  {
   "cell_type": "code",
   "execution_count": 35,
   "metadata": {},
   "outputs": [],
   "source": [
    "hp['Functional'] = hp[\n",
    "    'Functional'].map({'Typ': 0, 'Min1': 1, 'Min2': 2, 'Mod': 3, 'Maj1': 4, 'Maj2': 5, 'Sev': 6, 'Sal': 7})"
   ]
  },
  {
   "cell_type": "markdown",
   "metadata": {},
   "source": [
    "**Garage Finish** cat. and ab.: *Fin - Finished, RFn - Rough Finished, Unf - Unfinished*, and *N - No Garage*. Numerical 3-0 where 3 is *Finished*."
   ]
  },
  {
   "cell_type": "code",
   "execution_count": 36,
   "metadata": {},
   "outputs": [],
   "source": [
    "hp['GarageFinish'] = hp['GarageFinish'].map({'Fin': 3, 'RFn': 2, 'Unf': 1, 'N': 0})"
   ]
  },
  {
   "cell_type": "markdown",
   "metadata": {},
   "source": [
    "**PavedDrive** cat. and ab.: *Y - Paved, P - Partial Pavement*, and *N - Dirt/Gravel*. Numerical 2-0 where *Paved* is 2. "
   ]
  },
  {
   "cell_type": "code",
   "execution_count": 37,
   "metadata": {},
   "outputs": [],
   "source": [
    "hp['PavedDrive'] = hp['PavedDrive'].map({'Y': 2, 'P': 1, 'N': 0})"
   ]
  },
  {
   "cell_type": "markdown",
   "metadata": {},
   "source": [
    "**Electrical** is categorised as 'ordinal' but since and for some variables it is true, but there is also a variable called 'mix' which makes it harder to decide a numerical value. I decide to use one-hot-encoding for this column as I will for the columns with nominal values.  \n",
    "  \n",
    "**Central Air** is categorised as 'nominal' but the variables are eather yes or no. Istead of creating Dummies for this one I just change every yes to 1 and every no to 0.  "
   ]
  },
  {
   "cell_type": "code",
   "execution_count": 38,
   "metadata": {},
   "outputs": [],
   "source": [
    "hp['CentralAir'] = hp['CentralAir'].map({'Y': 1, 'N': 0})"
   ]
  },
  {
   "cell_type": "markdown",
   "metadata": {},
   "source": [
    "##### Outliers  \n",
    "I need to see if there are any outliers that might hinder my models. "
   ]
  },
  {
   "cell_type": "code",
   "execution_count": 39,
   "metadata": {},
   "outputs": [
    {
     "data": {
      "image/png": "[encoded data removed]",
      "text/plain": [
       "<Figure size 432x432 with 3 Axes>"
      ]
     },
     "metadata": {
      "needs_background": "light"
     },
     "output_type": "display_data"
    },
    {
     "data": {
      "image/png": "[encoded data removed]",
      "text/plain": [
       "<Figure size 432x432 with 3 Axes>"
      ]
     },
     "metadata": {
      "needs_background": "light"
     },
     "output_type": "display_data"
    }
   ],
   "source": [
    "for col in hp.loc[:, hp.dtypes == np.number].keys():\n",
    "    sns.jointplot(hp['SalePrice'], col, data=hp, height=6, s=1)\n",
    "plt.show()"
   ]
  },
  {
   "cell_type": "markdown",
   "metadata": {},
   "source": [
    "It looks like my models will be enhanced if I remove the objects that have a Lot frontage SF over 250 SF. I will also remove the objects with a sales price over 700000."
   ]
  },
  {
   "cell_type": "code",
   "execution_count": 40,
   "metadata": {},
   "outputs": [],
   "source": [
    "hp = hp[(hp['LotFrontage'] < 250)  & (hp['SalePrice']<700000)]"
   ]
  },
  {
   "cell_type": "code",
   "execution_count": 41,
   "metadata": {},
   "outputs": [
    {
     "data": {
      "text/plain": [
       "(1456, 75)"
      ]
     },
     "execution_count": 41,
     "metadata": {},
     "output_type": "execute_result"
    }
   ],
   "source": [
    "hp.shape"
   ]
  },
  {
   "cell_type": "markdown",
   "metadata": {},
   "source": [
    "That was only four rows, but they will make a difference for the preformance of the models - in a good way. "
   ]
  },
  {
   "cell_type": "markdown",
   "metadata": {},
   "source": [
    "**Target value**  \n",
    "Before I start with the test data I take a look at the target value - the Sales price. "
   ]
  },
  {
   "cell_type": "code",
   "execution_count": 42,
   "metadata": {},
   "outputs": [
    {
     "data": {
      "text/plain": [
       "<matplotlib.axes._subplots.AxesSubplot at 0x1a1923a2b0>"
      ]
     },
     "execution_count": 42,
     "metadata": {},
     "output_type": "execute_result"
    },
    {
     "data": {
      "image/png": "[encoded data removed]",
      "text/plain": [
       "<Figure size 432x288 with 1 Axes>"
      ]
     },
     "metadata": {
      "needs_background": "light"
     },
     "output_type": "display_data"
    }
   ],
   "source": [
    "sns.distplot(hp['SalePrice'], fit=stats.norm)"
   ]
  },
  {
   "cell_type": "markdown",
   "metadata": {},
   "source": [
    "I can see that the values are skewed and wonder if we'd get closer to normal distribution if we use log10 on it. "
   ]
  },
  {
   "cell_type": "code",
   "execution_count": 43,
   "metadata": {},
   "outputs": [
    {
     "data": {
      "text/plain": [
       "<matplotlib.axes._subplots.AxesSubplot at 0x1a1929e5c0>"
      ]
     },
     "execution_count": 43,
     "metadata": {},
     "output_type": "execute_result"
    },
    {
     "data": {
      "image/png": "[encoded data removed]",
      "text/plain": [
       "<Figure size 432x288 with 1 Axes>"
      ]
     },
     "metadata": {
      "needs_background": "light"
     },
     "output_type": "display_data"
    }
   ],
   "source": [
    "hp['SalePrice'] = np.log10(hp['SalePrice'])\n",
    "\n",
    "sns.distplot(hp['SalePrice'], fit=stats.norm)"
   ]
  },
  {
   "cell_type": "markdown",
   "metadata": {},
   "source": [
    "This looks much better. Now I have to remember to convert the predictions before handling them in. :)  \n",
    "  \n",
    "**Correlation**  \n",
    "Now I want to see the numeric values that shows a correlation higher than 0,5."
   ]
  },
  {
   "cell_type": "code",
   "execution_count": 44,
   "metadata": {},
   "outputs": [],
   "source": [
    "corr_hp = hp.select_dtypes(include=[np.number]).corr()"
   ]
  },
  {
   "cell_type": "code",
   "execution_count": 45,
   "metadata": {},
   "outputs": [
    {
     "data": {
      "text/plain": [
       "Index([], dtype='object')"
      ]
     },
     "execution_count": 45,
     "metadata": {},
     "output_type": "execute_result"
    }
   ],
   "source": [
    "corr_hp.index[abs((corr_hp['SalePrice']<-0.5))]"
   ]
  },
  {
   "cell_type": "code",
   "execution_count": 46,
   "metadata": {},
   "outputs": [
    {
     "data": {
      "text/plain": [
       "Index(['OverallQual', 'YearBuilt', 'YearRemodAdd', 'ExterQual', 'BsmtQual',\n",
       "       'TotalBsmtSF', '1stFlrSF', 'GrLivArea', 'FullBath', 'KitchenQual',\n",
       "       'TotRmsAbvGrd', 'FireplaceQu', 'GarageFinish', 'GarageCars',\n",
       "       'GarageArea', 'SalePrice'],\n",
       "      dtype='object')"
      ]
     },
     "execution_count": 46,
     "metadata": {},
     "output_type": "execute_result"
    }
   ],
   "source": [
    "corr_hp.index[abs((corr_hp['SalePrice']>0.5))]"
   ]
  },
  {
   "cell_type": "code",
   "execution_count": 47,
   "metadata": {},
   "outputs": [
    {
     "data": {
      "image/png": "[encoded data removed]",
      "text/plain": [
       "<Figure size 1440x720 with 2 Axes>"
      ]
     },
     "metadata": {
      "needs_background": "light"
     },
     "output_type": "display_data"
    }
   ],
   "source": [
    "top_corr = hp[corr_hp.index[abs((corr_hp['SalePrice']>0.5))]].corr()\n",
    "plt.subplots(figsize=(20,10))\n",
    "sns.heatmap(top_corr, annot=True)\n",
    "plt.show()"
   ]
  },
  {
   "cell_type": "markdown",
   "metadata": {},
   "source": [
    "I can see that Overall Qual has a 0,82 correlation and that it would make a good baseline. I can also see that most of the features with high correlation has to do with quality."
   ]
  },
  {
   "cell_type": "code",
   "execution_count": 48,
   "metadata": {},
   "outputs": [
    {
     "name": "stdout",
     "output_type": "stream",
     "text": [
      "<class 'pandas.core.frame.DataFrame'>\n",
      "Int64Index: 1456 entries, 0 to 1459\n",
      "Data columns (total 75 columns):\n",
      "MSSubClass       1456 non-null int64\n",
      "MSZoning         1456 non-null object\n",
      "LotFrontage      1456 non-null float64\n",
      "LotArea          1456 non-null int64\n",
      "Street           1456 non-null object\n",
      "LotShape         1456 non-null int64\n",
      "LandContour      1456 non-null object\n",
      "Utilities        1456 non-null int64\n",
      "LotConfig        1456 non-null object\n",
      "LandSlope        1456 non-null int64\n",
      "Neighborhood     1456 non-null object\n",
      "Condition1       1456 non-null object\n",
      "Condition2       1456 non-null object\n",
      "BldgType         1456 non-null object\n",
      "HouseStyle       1456 non-null object\n",
      "OverallQual      1456 non-null int64\n",
      "OverallCond      1456 non-null int64\n",
      "YearBuilt        1456 non-null int64\n",
      "YearRemodAdd     1456 non-null int64\n",
      "RoofStyle        1456 non-null object\n",
      "RoofMatl         1456 non-null object\n",
      "Exterior1st      1456 non-null object\n",
      "Exterior2nd      1456 non-null object\n",
      "MasVnrType       1456 non-null object\n",
      "MasVnrArea       1456 non-null float64\n",
      "ExterQual        1456 non-null int64\n",
      "ExterCond        1456 non-null int64\n",
      "Foundation       1456 non-null object\n",
      "BsmtQual         1456 non-null int64\n",
      "BsmtCond         1456 non-null int64\n",
      "BsmtExposure     1456 non-null int64\n",
      "BsmtFinType1     1456 non-null int64\n",
      "BsmtFinSF1       1456 non-null int64\n",
      "BsmtFinType2     1456 non-null int64\n",
      "BsmtFinSF2       1456 non-null int64\n",
      "BsmtUnfSF        1456 non-null int64\n",
      "TotalBsmtSF      1456 non-null int64\n",
      "Heating          1456 non-null object\n",
      "HeatingQC        1456 non-null int64\n",
      "CentralAir       1456 non-null int64\n",
      "Electrical       1456 non-null object\n",
      "1stFlrSF         1456 non-null int64\n",
      "2ndFlrSF         1456 non-null int64\n",
      "LowQualFinSF     1456 non-null int64\n",
      "GrLivArea        1456 non-null int64\n",
      "BsmtFullBath     1456 non-null int64\n",
      "BsmtHalfBath     1456 non-null int64\n",
      "FullBath         1456 non-null int64\n",
      "HalfBath         1456 non-null int64\n",
      "BedroomAbvGr     1456 non-null int64\n",
      "KitchenAbvGr     1456 non-null int64\n",
      "KitchenQual      1456 non-null int64\n",
      "TotRmsAbvGrd     1456 non-null int64\n",
      "Functional       1456 non-null int64\n",
      "Fireplaces       1456 non-null int64\n",
      "FireplaceQu      1456 non-null int64\n",
      "GarageType       1456 non-null object\n",
      "GarageFinish     1456 non-null int64\n",
      "GarageCars       1456 non-null int64\n",
      "GarageArea       1456 non-null int64\n",
      "GarageQual       1456 non-null int64\n",
      "GarageCond       1456 non-null int64\n",
      "PavedDrive       1456 non-null int64\n",
      "WoodDeckSF       1456 non-null int64\n",
      "OpenPorchSF      1456 non-null int64\n",
      "EnclosedPorch    1456 non-null int64\n",
      "3SsnPorch        1456 non-null int64\n",
      "ScreenPorch      1456 non-null int64\n",
      "PoolArea         1456 non-null int64\n",
      "MiscVal          1456 non-null int64\n",
      "MoSold           1456 non-null int64\n",
      "YrSold           1456 non-null int64\n",
      "SaleType         1456 non-null object\n",
      "SaleCondition    1456 non-null object\n",
      "SalePrice        1456 non-null float64\n",
      "dtypes: float64(3), int64(52), object(20)\n",
      "memory usage: 864.5+ KB\n"
     ]
    }
   ],
   "source": [
    "hp.info()"
   ]
  },
  {
   "cell_type": "markdown",
   "metadata": {},
   "source": [
    "**Test data**  \n",
    "Now I just have to take the exact same steps with the test data as with the train data - except for the Sales price as that is what we are predicting. "
   ]
  },
  {
   "cell_type": "code",
   "execution_count": 49,
   "metadata": {},
   "outputs": [],
   "source": [
    "testhp=pd.read_csv('test.csv')"
   ]
  },
  {
   "cell_type": "code",
   "execution_count": 50,
   "metadata": {},
   "outputs": [],
   "source": [
    "#To have the original csv to check that the predictions are paired with the right Id.\n",
    "testhp_w_Id = testhp.copy()"
   ]
  },
  {
   "cell_type": "markdown",
   "metadata": {},
   "source": [
    "I'll start by deleting all the columns that I deleted from the train data set. "
   ]
  },
  {
   "cell_type": "code",
   "execution_count": 51,
   "metadata": {},
   "outputs": [],
   "source": [
    "testhp.drop(['Id', 'PoolQC','MiscFeature', 'Alley', 'Fence', 'GarageYrBlt'],axis=1,inplace=True)"
   ]
  },
  {
   "cell_type": "code",
   "execution_count": 52,
   "metadata": {},
   "outputs": [
    {
     "data": {
      "text/plain": [
       "(1459, 74)"
      ]
     },
     "execution_count": 52,
     "metadata": {},
     "output_type": "execute_result"
    }
   ],
   "source": [
    "testhp.shape"
   ]
  },
  {
   "cell_type": "markdown",
   "metadata": {},
   "source": [
    "Looking at the shape I see that I have removed all the columns that I took away. The test data also lacks the column price since that's what I am trying to predict, this is why the shape states the same number of columns as the \"hp\".  \n",
    "  \n",
    "I'll look at the info to see if there's missing data in other columns than the train data. "
   ]
  },
  {
   "cell_type": "code",
   "execution_count": 53,
   "metadata": {},
   "outputs": [
    {
     "data": {
      "text/html": [
       "<div>\n",
       "<style scoped>\n",
       "    .dataframe tbody tr th:only-of-type {\n",
       "        vertical-align: middle;\n",
       "    }\n",
       "\n",
       "    .dataframe tbody tr th {\n",
       "        vertical-align: top;\n",
       "    }\n",
       "\n",
       "    .dataframe thead th {\n",
       "        text-align: right;\n",
       "    }\n",
       "</style>\n",
       "<table border=\"1\" class=\"dataframe\">\n",
       "  <thead>\n",
       "    <tr style=\"text-align: right;\">\n",
       "      <th></th>\n",
       "      <th>Column</th>\n",
       "      <th>Count</th>\n",
       "    </tr>\n",
       "  </thead>\n",
       "  <tbody>\n",
       "    <tr>\n",
       "      <th>0</th>\n",
       "      <td>FireplaceQu</td>\n",
       "      <td>50.137363</td>\n",
       "    </tr>\n",
       "    <tr>\n",
       "      <th>1</th>\n",
       "      <td>LotFrontage</td>\n",
       "      <td>15.590659</td>\n",
       "    </tr>\n",
       "    <tr>\n",
       "      <th>2</th>\n",
       "      <td>GarageQual</td>\n",
       "      <td>5.357143</td>\n",
       "    </tr>\n",
       "    <tr>\n",
       "      <th>3</th>\n",
       "      <td>GarageFinish</td>\n",
       "      <td>5.357143</td>\n",
       "    </tr>\n",
       "    <tr>\n",
       "      <th>4</th>\n",
       "      <td>GarageCond</td>\n",
       "      <td>5.357143</td>\n",
       "    </tr>\n",
       "    <tr>\n",
       "      <th>5</th>\n",
       "      <td>GarageType</td>\n",
       "      <td>5.219780</td>\n",
       "    </tr>\n",
       "    <tr>\n",
       "      <th>6</th>\n",
       "      <td>BsmtCond</td>\n",
       "      <td>3.090659</td>\n",
       "    </tr>\n",
       "    <tr>\n",
       "      <th>7</th>\n",
       "      <td>BsmtExposure</td>\n",
       "      <td>3.021978</td>\n",
       "    </tr>\n",
       "    <tr>\n",
       "      <th>8</th>\n",
       "      <td>BsmtQual</td>\n",
       "      <td>3.021978</td>\n",
       "    </tr>\n",
       "    <tr>\n",
       "      <th>9</th>\n",
       "      <td>BsmtFinType1</td>\n",
       "      <td>2.884615</td>\n",
       "    </tr>\n",
       "    <tr>\n",
       "      <th>10</th>\n",
       "      <td>BsmtFinType2</td>\n",
       "      <td>2.884615</td>\n",
       "    </tr>\n",
       "    <tr>\n",
       "      <th>11</th>\n",
       "      <td>MasVnrType</td>\n",
       "      <td>1.098901</td>\n",
       "    </tr>\n",
       "    <tr>\n",
       "      <th>12</th>\n",
       "      <td>MasVnrArea</td>\n",
       "      <td>1.030220</td>\n",
       "    </tr>\n",
       "    <tr>\n",
       "      <th>13</th>\n",
       "      <td>MSZoning</td>\n",
       "      <td>0.274725</td>\n",
       "    </tr>\n",
       "    <tr>\n",
       "      <th>14</th>\n",
       "      <td>BsmtFullBath</td>\n",
       "      <td>0.137363</td>\n",
       "    </tr>\n",
       "    <tr>\n",
       "      <th>15</th>\n",
       "      <td>Functional</td>\n",
       "      <td>0.137363</td>\n",
       "    </tr>\n",
       "    <tr>\n",
       "      <th>16</th>\n",
       "      <td>Utilities</td>\n",
       "      <td>0.137363</td>\n",
       "    </tr>\n",
       "    <tr>\n",
       "      <th>17</th>\n",
       "      <td>BsmtHalfBath</td>\n",
       "      <td>0.137363</td>\n",
       "    </tr>\n",
       "    <tr>\n",
       "      <th>18</th>\n",
       "      <td>Exterior2nd</td>\n",
       "      <td>0.068681</td>\n",
       "    </tr>\n",
       "    <tr>\n",
       "      <th>19</th>\n",
       "      <td>Exterior1st</td>\n",
       "      <td>0.068681</td>\n",
       "    </tr>\n",
       "    <tr>\n",
       "      <th>20</th>\n",
       "      <td>SaleType</td>\n",
       "      <td>0.068681</td>\n",
       "    </tr>\n",
       "    <tr>\n",
       "      <th>21</th>\n",
       "      <td>BsmtFinSF1</td>\n",
       "      <td>0.068681</td>\n",
       "    </tr>\n",
       "    <tr>\n",
       "      <th>22</th>\n",
       "      <td>BsmtUnfSF</td>\n",
       "      <td>0.068681</td>\n",
       "    </tr>\n",
       "    <tr>\n",
       "      <th>23</th>\n",
       "      <td>TotalBsmtSF</td>\n",
       "      <td>0.068681</td>\n",
       "    </tr>\n",
       "    <tr>\n",
       "      <th>24</th>\n",
       "      <td>KitchenQual</td>\n",
       "      <td>0.068681</td>\n",
       "    </tr>\n",
       "    <tr>\n",
       "      <th>25</th>\n",
       "      <td>GarageCars</td>\n",
       "      <td>0.068681</td>\n",
       "    </tr>\n",
       "    <tr>\n",
       "      <th>26</th>\n",
       "      <td>GarageArea</td>\n",
       "      <td>0.068681</td>\n",
       "    </tr>\n",
       "    <tr>\n",
       "      <th>27</th>\n",
       "      <td>BsmtFinSF2</td>\n",
       "      <td>0.068681</td>\n",
       "    </tr>\n",
       "  </tbody>\n",
       "</table>\n",
       "</div>"
      ],
      "text/plain": [
       "          Column      Count\n",
       "0    FireplaceQu  50.137363\n",
       "1    LotFrontage  15.590659\n",
       "2     GarageQual   5.357143\n",
       "3   GarageFinish   5.357143\n",
       "4     GarageCond   5.357143\n",
       "5     GarageType   5.219780\n",
       "6       BsmtCond   3.090659\n",
       "7   BsmtExposure   3.021978\n",
       "8       BsmtQual   3.021978\n",
       "9   BsmtFinType1   2.884615\n",
       "10  BsmtFinType2   2.884615\n",
       "11    MasVnrType   1.098901\n",
       "12    MasVnrArea   1.030220\n",
       "13      MSZoning   0.274725\n",
       "14  BsmtFullBath   0.137363\n",
       "15    Functional   0.137363\n",
       "16     Utilities   0.137363\n",
       "17  BsmtHalfBath   0.137363\n",
       "18   Exterior2nd   0.068681\n",
       "19   Exterior1st   0.068681\n",
       "20      SaleType   0.068681\n",
       "21    BsmtFinSF1   0.068681\n",
       "22     BsmtUnfSF   0.068681\n",
       "23   TotalBsmtSF   0.068681\n",
       "24   KitchenQual   0.068681\n",
       "25    GarageCars   0.068681\n",
       "26    GarageArea   0.068681\n",
       "27    BsmtFinSF2   0.068681"
      ]
     },
     "execution_count": 53,
     "metadata": {},
     "output_type": "execute_result"
    }
   ],
   "source": [
    "nulltest = testhp.isnull().sum()/len(hp)*100\n",
    "nulltest = nulltest[nulltest>0]\n",
    "nulltest.sort_values(inplace=True, ascending=False)\n",
    "nulltest = nulltest.to_frame()\n",
    "nulltest.columns=['Count']\n",
    "nulltest.index.names = ['Column']\n",
    "nulltest.reset_index(level=0, inplace=True)\n",
    "nulltest"
   ]
  },
  {
   "cell_type": "markdown",
   "metadata": {},
   "source": [
    "I will handle the missing value column by column the same way I did with the train data set. "
   ]
  },
  {
   "cell_type": "code",
   "execution_count": 54,
   "metadata": {},
   "outputs": [],
   "source": [
    "testhp.update(testhp[['GarageCond','GarageFinish','GarageQual', 'GarageType', 'FireplaceQu', \n",
    "             'BsmtCond','BsmtExposure','BsmtQual', 'BsmtFinType1', 'BsmtFinType2']].fillna('N'))\n",
    "testhp.update(testhp[['LotFrontage', 'MasVnrArea', 'BsmtFullBath', 'Functional', 'BsmtHalfBath',\n",
    "                     'Exterior2nd', 'Exterior1st', 'BsmtFinSF1', 'BsmtUnfSF', 'TotalBsmtSF',\n",
    "                     'GarageArea', 'BsmtFinSF2', 'GarageCars']].fillna(0))\n",
    "testhp['MasVnrType'].fillna('None', inplace = True)\n",
    "testhp['SaleType']= testhp['SaleType'].fillna(hp['SaleType'].mode()[0])\n",
    "testhp['KitchenQual']= testhp['KitchenQual'].fillna(hp['KitchenQual'].mode()[0])\n",
    "testhp['MSZoning']= testhp['MSZoning'].fillna(hp['MSZoning'].mode()[0])"
   ]
  },
  {
   "cell_type": "code",
   "execution_count": 55,
   "metadata": {},
   "outputs": [],
   "source": [
    "testhp['Utilities'].fillna('AllPub', inplace = True)\n",
    "testhp['Functional'].fillna('Typ', inplace = True)"
   ]
  },
  {
   "cell_type": "markdown",
   "metadata": {},
   "source": [
    "Now I'll go on to change the ordinal categorical values to numerical values, just as I did on the train data set. "
   ]
  },
  {
   "cell_type": "code",
   "execution_count": 56,
   "metadata": {},
   "outputs": [],
   "source": [
    "testhp['LotShape'] = testhp['LotShape'].map({'Reg': 0, 'IR1': 1, 'IR2': 2, 'IR3': 3})\n",
    "testhp['Utilities'] = testhp['Utilities'].map({'AllPub': 4, 'NoSewr': 3, 'NoSeWa': 2, 'ELO': 1})\n",
    "testhp['LandSlope'] = testhp['LandSlope'].map({'Gtl': 1, 'Mod': 2, 'Sev': 3})\n",
    "testhp[['ExterCond','ExterQual','HeatingQC', 'KitchenQual']] = testhp[\n",
    "    ['ExterCond','ExterQual','HeatingQC', 'KitchenQual']].applymap(n.get)\n",
    "testhp[['BsmtQual', 'BsmtCond', 'FireplaceQu', 'GarageQual', 'GarageCond']] = testhp[\n",
    "    ['BsmtQual', 'BsmtCond', 'FireplaceQu', 'GarageQual', 'GarageCond']].applymap(b.get)\n",
    "testhp[['BsmtFinType1', 'BsmtFinType2']] = testhp[['BsmtFinType1', 'BsmtFinType2']].applymap(bt.get)\n",
    "testhp['Functional'] = testhp['Functional'].map({\n",
    "    'Typ': 0, 'Min1': 1, 'Min2': 2, 'Mod': 3, 'Maj1': 4, 'Maj2': 5, 'Sev': 6, 'Sal': 7})\n",
    "testhp['BsmtExposure'] = testhp['BsmtExposure'].map({'Gd': 3, 'Av': 2, 'Mn': 1, 'No': 0, 'N':0})\n",
    "testhp['GarageFinish'] = testhp['GarageFinish'].map({'Fin': 3, 'RFn': 2, 'Unf': 1, 'N': 0})\n",
    "testhp['PavedDrive'] = testhp['PavedDrive'].map({'Y': 2, 'P': 1, 'N': 0})\n",
    "testhp['CentralAir'] = testhp['CentralAir'].map({'Y': 1, 'N': 0})"
   ]
  },
  {
   "cell_type": "code",
   "execution_count": 57,
   "metadata": {},
   "outputs": [
    {
     "data": {
      "text/plain": [
       "['KitchenQual', 'Functional']"
      ]
     },
     "execution_count": 57,
     "metadata": {},
     "output_type": "execute_result"
    }
   ],
   "source": [
    "testhp.columns[testhp.isna().any()].tolist()"
   ]
  },
  {
   "cell_type": "markdown",
   "metadata": {},
   "source": [
    "Somehow I still have missing values in Functional, and KitchenQual, but strangely enough, if I run the cell with their fillna twice it is fixed. So for now I just do that. "
   ]
  },
  {
   "cell_type": "code",
   "execution_count": 58,
   "metadata": {},
   "outputs": [],
   "source": [
    "testhp['Functional'].fillna(0, inplace = True)\n",
    "testhp['KitchenQual']= testhp['KitchenQual'].fillna(hp['KitchenQual'].mode()[0])"
   ]
  },
  {
   "cell_type": "code",
   "execution_count": 59,
   "metadata": {},
   "outputs": [
    {
     "data": {
      "text/plain": [
       "[]"
      ]
     },
     "execution_count": 59,
     "metadata": {},
     "output_type": "execute_result"
    }
   ],
   "source": [
    "testhp.columns[testhp.isna().any()].tolist()"
   ]
  },
  {
   "cell_type": "markdown",
   "metadata": {},
   "source": [
    "I now create a new data frame with the both data sets. This way I can create new features and get all the columns in both data sets when I do the one-hot encoding. "
   ]
  },
  {
   "cell_type": "code",
   "execution_count": 61,
   "metadata": {},
   "outputs": [],
   "source": [
    "ohenchp=pd.concat([hp,testhp],axis=0, sort=True)"
   ]
  },
  {
   "cell_type": "markdown",
   "metadata": {},
   "source": [
    "I decide to make a feature called 'BldPeriod', representing the building periods in which the houses were built (roughly). \n",
    "\n",
    "+ Before 1925; 1\n",
    "+ 1926 to 1960; 2\n",
    "+ 1961 to 1986; 3\n",
    "+ 1987 to 1999; 4\n",
    "+ Later than 2000; 5"
   ]
  },
  {
   "cell_type": "code",
   "execution_count": 62,
   "metadata": {},
   "outputs": [],
   "source": [
    "bins= [0,1925,1960,1986,1999,2020]\n",
    "labels = [1,2,3,4,5]\n",
    "ohenchp['BldPeriod'] = pd.cut(ohenchp['YearBuilt'], bins=bins, labels=labels, right=False)"
   ]
  },
  {
   "cell_type": "code",
   "execution_count": 63,
   "metadata": {},
   "outputs": [
    {
     "data": {
      "text/plain": [
       "(2915, 76)"
      ]
     },
     "execution_count": 63,
     "metadata": {},
     "output_type": "execute_result"
    }
   ],
   "source": [
    "ohenchp.shape"
   ]
  },
  {
   "cell_type": "markdown",
   "metadata": {},
   "source": [
    "I create a variable where I store all the columns I want to one-hot-encode. "
   ]
  },
  {
   "cell_type": "code",
   "execution_count": 64,
   "metadata": {},
   "outputs": [],
   "source": [
    "nomcols = ['MSSubClass', 'MSZoning', 'Street', 'LandContour', 'LotConfig', 'Neighborhood', 'Condition1', \n",
    "           'Condition2', 'BldgType', 'BldPeriod', 'HouseStyle', 'RoofStyle', 'RoofMatl', 'Exterior1st', \n",
    "           'Exterior2nd', 'MasVnrType', 'Foundation', 'Heating', 'Electrical', 'GarageType', 'SaleType',\n",
    "           'SaleCondition']"
   ]
  },
  {
   "cell_type": "markdown",
   "metadata": {},
   "source": [
    "Now I will do the one-hot-encoding. "
   ]
  },
  {
   "cell_type": "code",
   "execution_count": 65,
   "metadata": {},
   "outputs": [],
   "source": [
    "ohenchp = pd.get_dummies(ohenchp, columns=nomcols, prefix='', prefix_sep='', drop_first=True)"
   ]
  },
  {
   "cell_type": "code",
   "execution_count": 66,
   "metadata": {},
   "outputs": [
    {
     "data": {
      "text/plain": [
       "(2915, 213)"
      ]
     },
     "execution_count": 66,
     "metadata": {},
     "output_type": "execute_result"
    }
   ],
   "source": [
    "ohenchp.shape"
   ]
  },
  {
   "cell_type": "markdown",
   "metadata": {},
   "source": [
    "Since I know that the last 1459 of the data inputs are the ones from the test data set I split \"ohenchp\" to get the train data and test data in seperate data frames again. "
   ]
  },
  {
   "cell_type": "code",
   "execution_count": 67,
   "metadata": {},
   "outputs": [],
   "source": [
    "dhp=ohenchp.iloc[:1456,:]\n",
    "dtesthp=ohenchp.iloc[1456:,:]"
   ]
  },
  {
   "cell_type": "code",
   "execution_count": 68,
   "metadata": {},
   "outputs": [],
   "source": [
    "dtesthp = dtesthp.drop(['SalePrice'], axis = 1)"
   ]
  },
  {
   "cell_type": "code",
   "execution_count": 69,
   "metadata": {},
   "outputs": [
    {
     "data": {
      "text/plain": [
       "(1459, 212)"
      ]
     },
     "execution_count": 69,
     "metadata": {},
     "output_type": "execute_result"
    }
   ],
   "source": [
    "dtesthp.shape"
   ]
  },
  {
   "cell_type": "markdown",
   "metadata": {},
   "source": [
    "#### Model fitting and making predictions   \n",
    "  \n",
    "I will start by creating a baseline with the column 'OverallQual' that has the highest correlation, using linear regression."
   ]
  },
  {
   "cell_type": "code",
   "execution_count": 70,
   "metadata": {},
   "outputs": [],
   "source": [
    "x =dhp['OverallQual'].values.reshape(-1,1)\n",
    "y = dhp['SalePrice']\n",
    "\n",
    "x_tr, x_te, y_tr, y_te = train_test_split(x, y, test_size=0.2, random_state=0)"
   ]
  },
  {
   "cell_type": "markdown",
   "metadata": {},
   "source": [
    "I need to define the MAE - mean absolute error - to be able to evaluate my results. "
   ]
  },
  {
   "cell_type": "code",
   "execution_count": 71,
   "metadata": {},
   "outputs": [],
   "source": [
    "def MAE(y, y_pred):\n",
    "    return np.mean(np.abs(y - y_pred))"
   ]
  },
  {
   "cell_type": "code",
   "execution_count": 72,
   "metadata": {},
   "outputs": [
    {
     "name": "stdout",
     "output_type": "stream",
     "text": [
      "MAE for my baseline - \"OverallQual\": 30508.194\n"
     ]
    }
   ],
   "source": [
    "lr = LinearRegression()\n",
    "lr.fit(x_tr, y_tr)\n",
    "y_pred_baselilne=lr.predict(x_te)\n",
    "mae_baseline = MAE(10**y_te, 10**y_pred_baselilne)\n",
    "print('MAE for my baseline - \"OverallQual\": {:.3f}'.format(mae_baseline))"
   ]
  },
  {
   "cell_type": "markdown",
   "metadata": {},
   "source": [
    "**Regularisation**  \n",
    "I will do a grid search as to find the best values to later do a ridgeregression. I will use all the variables in this \"complex\" model. "
   ]
  },
  {
   "cell_type": "code",
   "execution_count": 73,
   "metadata": {},
   "outputs": [],
   "source": [
    "X = dhp.drop(columns =['SalePrice'])\n",
    "y = dhp['SalePrice']\n",
    "\n",
    "X_tr, X_te, y_tr, y_te = train_test_split(X, y, test_size=0.2, random_state=0)"
   ]
  },
  {
   "cell_type": "code",
   "execution_count": 74,
   "metadata": {},
   "outputs": [],
   "source": [
    "gs_results = []\n",
    "\n",
    "\n",
    "for alpha in np.logspace(-10, 10, num=100):\n",
    "    # Create and fit ridge regression\n",
    "    ridge = Ridge(alpha=alpha)\n",
    "    ridge.fit(X_tr, y_tr)\n",
    "\n",
    "    # Save model and its performance on train/test sets\n",
    "    gs_results.append({\n",
    "        'alpha': alpha,\n",
    "        'train_mse': MSE(y_tr, ridge.predict(X_tr)),\n",
    "        'train_mae': MAE(10**y_tr, 10**ridge.predict(X_tr)),\n",
    "        'test_mse': MSE(y_te, ridge.predict(X_te)),\n",
    "        'test_mae': MAE(10**y_te, 10**ridge.predict(X_te)),\n",
    "    })"
   ]
  },
  {
   "cell_type": "markdown",
   "metadata": {},
   "source": [
    "I create a data frame of the saved results and plot them to get an overview"
   ]
  },
  {
   "cell_type": "code",
   "execution_count": 75,
   "metadata": {},
   "outputs": [
    {
     "data": {
      "image/png": "[encoded data removed]",
      "text/plain": [
       "<Figure size 432x288 with 1 Axes>"
      ]
     },
     "metadata": {
      "needs_background": "light"
     },
     "output_type": "display_data"
    }
   ],
   "source": [
    "gs_results = pd.DataFrame(gs_results)\n",
    "\n",
    "# Plot the validation curves\n",
    "plt.semilogx(gs_results['alpha'], gs_results['train_mse'], label='train curve')\n",
    "plt.semilogx(gs_results['alpha'], gs_results['test_mse'], label='test curve')\n",
    "plt.xlabel('$log_{10}(alpha)$')\n",
    "plt.ylabel('MSE')\n",
    "plt.legend()\n",
    "plt.show()"
   ]
  },
  {
   "cell_type": "markdown",
   "metadata": {},
   "source": [
    "I then fit a model with a strong regularisation."
   ]
  },
  {
   "cell_type": "code",
   "execution_count": 76,
   "metadata": {},
   "outputs": [
    {
     "name": "stdout",
     "output_type": "stream",
     "text": [
      "Largest coefficient: 2.4e-02\n",
      "Intercept: 6.31\n"
     ]
    }
   ],
   "source": [
    "strong_ridge = Ridge(alpha=10**2)\n",
    "strong_ridge.fit(X_tr, y_tr)\n",
    "\n",
    "print('Largest coefficient: {:.1e}'.format(\n",
    "    np.max(np.abs(strong_ridge.coef_)))) \n",
    "print('Intercept: {:.2f}'.format(\n",
    "    strong_ridge.intercept_)) "
   ]
  },
  {
   "cell_type": "markdown",
   "metadata": {},
   "source": [
    "Then I get the best result regarding mean squered error. "
   ]
  },
  {
   "cell_type": "code",
   "execution_count": 77,
   "metadata": {},
   "outputs": [
    {
     "name": "stdout",
     "output_type": "stream",
     "text": [
      "Best alpha: 2.1e+01\n",
      "Test MSE: 0.0022\n",
      "Test MAE: 14,806$\n"
     ]
    }
   ],
   "source": [
    "# Get entry with the best test MSE\n",
    "best_result = gs_results.loc[gs_results.test_mse.idxmin()]\n",
    "\n",
    "#Saving best alpha\n",
    "best_alpha = best_result.alpha\n",
    "\n",
    "# Print the details\n",
    "print('Best alpha: {:.1e}'.format(best_result.alpha)) \n",
    "print('Test MSE: {:.4f}'.format(best_result.test_mse)) \n",
    "print('Test MAE: {:,.0f}$'.format(best_result.test_mae)) "
   ]
  },
  {
   "cell_type": "markdown",
   "metadata": {},
   "source": [
    "Then I fit a model with the best alpha."
   ]
  },
  {
   "cell_type": "code",
   "execution_count": 78,
   "metadata": {},
   "outputs": [
    {
     "data": {
      "text/plain": [
       "Ridge(alpha=20.565123083486515, copy_X=True, fit_intercept=True,\n",
       "   max_iter=None, normalize=False, random_state=None, solver='auto',\n",
       "   tol=0.001)"
      ]
     },
     "execution_count": 78,
     "metadata": {},
     "output_type": "execute_result"
    }
   ],
   "source": [
    "best_ridge = Ridge(alpha=best_alpha)\n",
    "best_ridge.fit(X_tr, y_tr) "
   ]
  },
  {
   "cell_type": "code",
   "execution_count": 79,
   "metadata": {},
   "outputs": [
    {
     "name": "stdout",
     "output_type": "stream",
     "text": [
      "MAE for my complex model using ridge regression: 14805.920\n"
     ]
    }
   ],
   "source": [
    "mae_r = MAE(10**y_te, 10**(best_ridge.predict(X_te)))\n",
    "print('MAE for my complex model using ridge regression: {:.3f}'.format(mae_r))"
   ]
  },
  {
   "cell_type": "markdown",
   "metadata": {},
   "source": [
    "Now I use this model at my test data to make predictions on that to submit to the Kaggle competition. "
   ]
  },
  {
   "cell_type": "code",
   "execution_count": 80,
   "metadata": {},
   "outputs": [],
   "source": [
    "X_test= dtesthp.values\n",
    "predictions = 10**(best_ridge.predict(X_test))"
   ]
  },
  {
   "cell_type": "code",
   "execution_count": 85,
   "metadata": {},
   "outputs": [],
   "source": [
    "cplx_pred = pd.DataFrame(predictions)\n",
    "cplx_pred.columns=['SalePrice']\n",
    "complx_pred=pd.concat([testhp_w_Id['Id'], cplx_pred], axis = 1) \n",
    "complx_pred.to_csv('mactilda-predictions.csv', index=False)"
   ]
  },
  {
   "cell_type": "markdown",
   "metadata": {},
   "source": [
    "I am now ready to submit my predictions. "
   ]
  },
  {
   "cell_type": "code",
   "execution_count": null,
   "metadata": {},
   "outputs": [],
   "source": []
  }
 ],
 "metadata": {
  "kernelspec": {
   "display_name": "Python 3",
   "language": "python",
   "name": "python3"
  },
  "language_info": {
   "codemirror_mode": {
    "name": "ipython",
    "version": 3
   },
   "file_extension": ".py",
   "mimetype": "text/x-python",
   "name": "python",
   "nbconvert_exporter": "python",
   "pygments_lexer": "ipython3",
   "version": "3.6.9"
  }
 },
 "nbformat": 4,
 "nbformat_minor": 2
}
